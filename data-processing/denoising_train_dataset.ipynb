{
 "cells": [
  {
   "cell_type": "code",
   "execution_count": null,
   "id": "af270df0",
   "metadata": {},
   "outputs": [],
   "source": [
    "from ipaddress import IPv4Address\n",
    "import csv\n",
    "import pandas as pd\n",
    "from tqdm.auto import tqdm"
   ]
  },
  {
   "cell_type": "code",
   "execution_count": null,
   "id": "1e513e9b",
   "metadata": {},
   "outputs": [],
   "source": [
    "train_df = csvProcessing('./train.csv')\n",
    "mal_df = train_df[train_df['Label']==1]\n",
    "ben_df = train_df[train_df['Label']==0]\n",
    "mal_target_ip = mal_df['target_ip']\n",
    "ben_target_ip = ben_df['target_ip']\n"
   ]
  },
  {
   "cell_type": "code",
   "execution_count": null,
   "id": "7a2e3581",
   "metadata": {},
   "outputs": [],
   "source": [
    "target_mal_ip = mal_df['target_ip']\n",
    "tmp = []\n",
    "for ip in target_mal_ip:\n",
    "        for attack in grey[ip][1]:\n",
    "            tmp.append(attack)\n",
    "tmp1 = set(tmp)\n",
    "attack_freq = {}\n",
    "for attack in tmp1:\n",
    "    attack_freq[attack] = 0\n",
    "for attack in tmp:\n",
    "    attack_freq[attack] +=1\n",
    "\n",
    "\n",
    "sorted_attack_freq = dict(sorted(attack_freq.items(), key=lambda x: x[1]))\n",
    "a = list(sorted_attack_freq.keys())\n",
    "for attack in a:\n",
    "    if sorted_attack_freq[attack]<50:\n",
    "        del(sorted_attack_freq[attack])\n",
    "attacks = list(sorted_attack_freq.keys())\n",
    "\n",
    "target_mal_ip = mal_df['target_ip']\n",
    "attack_labels = []\n",
    "for ip in target_mal_ip:\n",
    "    for attack in attacks:\n",
    "        if attack in grey[ip][1]:\n",
    "            attack_labels.append(attack) \n",
    "            break\n",
    "mal_df['attack_label'] = attack_labels       "
   ]
  },
  {
   "cell_type": "code",
   "execution_count": null,
   "id": "a4149cf6",
   "metadata": {},
   "outputs": [],
   "source": [
    "attack_label_set = set(mal_df['attack_label'])"
   ]
  },
  {
   "cell_type": "code",
   "execution_count": null,
   "id": "1b1c3551",
   "metadata": {},
   "outputs": [],
   "source": [
    "import numpy as np\n",
    "import pandas as pd\n",
    "import matplotlib.pyplot as plt\n",
    "from sklearn.cluster import DBSCAN\n",
    "from sklearn.preprocessing import MinMaxScaler,StandardScaler,RobustScaler\n",
    "from sklearn.decomposition import PCA\n",
    "from sklearn.neighbors import NearestNeighbors\n",
    "\n",
    "\n"
   ]
  },
  {
   "cell_type": "code",
   "execution_count": null,
   "id": "885d511c",
   "metadata": {},
   "outputs": [],
   "source": [
    "from sklearn.manifold import TSNE\n",
    "\n",
    "i=0\n",
    "column_names = mal_df.columns.values.tolist()\n",
    "denoised_mal_df = pd.DataFrame(columns=column_names)\n",
    "for attack in attack_label_set:\n",
    "    df_sample = mal_df[mal_df['attack_label'] == attack]\n",
    "    if len(df_sample) > 75000:\n",
    "        df_sample = df_sample.sample(n=75000,random_state=1)\n",
    "\n",
    "    target_ip_list = df_sample['target_ip']\n",
    "    start_time = df_sample['start_time']\n",
    "    end_time = df_sample['end_time']\n",
    "    labels = df_sample['Label']\n",
    "    attack_label = df_sample['attack_label']\n",
    "    \n",
    "    df_sample = df_sample.drop(labels=['target_ip','start_time','end_time','Label','attack_label'],axis=1)\n",
    "\n",
    "    # 데이터 스케일링\n",
    "    scaler = MinMaxScaler()\n",
    "    scaled_data = scaler.fit_transform(df_sample)\n",
    "    dbscan = DBSCAN(eps=0.02, n_jobs=10,min_samples=20,metric='cosine')\n",
    "    dbscan_labels = dbscan.fit_predict(scaled_data)\n",
    "\n",
    "    # 클러스터링 결과를 데이터프레임에 추가\n",
    "    df_sample['dbscan_label'] = dbscan_labels\n",
    "    df_sample['target_ip'] = target_ip_list\n",
    "    df_sample['start_time'] = start_time\n",
    "    df_sample['end_time'] = end_time\n",
    "    df_sample['Label'] = labels\n",
    "    df_sample['attack_label'] = attack_label\n",
    "    tmp_df = df_sample[df_sample['dbscan_label']!=-1]\n",
    "    db_labels_set = set(tmp_df['dbscan_label'])\n",
    "    df_sample = None\n",
    "    for db in db_labels_set:\n",
    "        a_df = tmp_df[tmp_df['dbscan_label']==db]\n",
    "\n",
    "        if len(a_df)>500 :\n",
    "            denoised_mal_df = pd.concat([denoised_mal_df,a_df])\n",
    "        a_df = None\n",
    "    tmp_df = None"
   ]
  },
  {
   "cell_type": "code",
   "execution_count": null,
   "id": "c3aa90c3",
   "metadata": {},
   "outputs": [],
   "source": [
    "denoised_mal_df.to_csv('./denoise_train_attack1.csv',index=False)"
   ]
  }
 ],
 "metadata": {
  "kernelspec": {
   "display_name": "Python 3 (ipykernel)",
   "language": "python",
   "name": "python3"
  },
  "language_info": {
   "codemirror_mode": {
    "name": "ipython",
    "version": 3
   },
   "file_extension": ".py",
   "mimetype": "text/x-python",
   "name": "python",
   "nbconvert_exporter": "python",
   "pygments_lexer": "ipython3",
   "version": "3.10.9"
  }
 },
 "nbformat": 4,
 "nbformat_minor": 5
}
